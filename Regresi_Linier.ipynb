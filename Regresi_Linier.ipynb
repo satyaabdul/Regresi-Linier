{
  "nbformat": 4,
  "nbformat_minor": 0,
  "metadata": {
    "colab": {
      "name": "Regresi_Linier.ipynb",
      "provenance": [],
      "include_colab_link": true
    },
    "kernelspec": {
      "name": "python3",
      "display_name": "Python 3"
    }
  },
  "cells": [
    {
      "cell_type": "markdown",
      "metadata": {
        "id": "view-in-github",
        "colab_type": "text"
      },
      "source": [
        "<a href=\"https://colab.research.google.com/github/satyaabdul/Regresi-Linier/blob/master/Regresi_Linier.ipynb\" target=\"_parent\"><img src=\"https://colab.research.google.com/assets/colab-badge.svg\" alt=\"Open In Colab\"/></a>"
      ]
    },
    {
      "cell_type": "markdown",
      "metadata": {
        "id": "w-Mm-trrv1gG",
        "colab_type": "text"
      },
      "source": [
        "# **Regresi Linier**\n",
        "\n",
        "Analisis regresi mempelajari bentuk hubungan antara satu atau lebih variabel bebas/independent (X) dengan satu variabel tak bebas/dependent (Y). sebagai contoh pengaruh banyaknya makanan yang dikonsumsi (X) terhadap kenaikan berat badan (Y) atau pengaruh luas bangunan (X) terhadap harga rumah (Y).\n",
        "\n",
        "dalam hal ini kita bagi menjadi 3 bagian :\n",
        "\n",
        "1. Persiapan Data\n",
        "    \n",
        "  *Mempersiapkan dataset dan memilih variabel independent dan dependent*\n",
        "\n",
        "2. Pembuatan Model\n",
        "\n",
        "  *Pembagian data latih (train) dan data uji (test)*\n",
        "\n",
        "3. Evaluasi Model\n",
        "\n",
        "  *Evaluasi akurasi model*\n",
        "\n",
        "\n",
        "Latihan ini dilakukan menggunakan **Python**\n",
        "\n",
        "Selamat Mencoba\n",
        "\n",
        "\n",
        "\n",
        "**Satya A.H.B**"
      ]
    },
    {
      "cell_type": "markdown",
      "metadata": {
        "id": "fIAQn5jZ2cCX",
        "colab_type": "text"
      },
      "source": [
        "## **Persiapan Data**"
      ]
    },
    {
      "cell_type": "markdown",
      "metadata": {
        "id": "YAOyZvDLwJ0v",
        "colab_type": "text"
      },
      "source": [
        "**Load dataset harga rumah boston**"
      ]
    },
    {
      "cell_type": "code",
      "metadata": {
        "id": "mmYO9fp8uJGx",
        "colab_type": "code",
        "colab": {}
      },
      "source": [
        "#load dataset\n",
        "from sklearn.datasets import load_boston\n",
        "boston_dataset = load_boston()"
      ],
      "execution_count": 0,
      "outputs": []
    },
    {
      "cell_type": "markdown",
      "metadata": {
        "id": "-wvvxn4B0I7X",
        "colab_type": "text"
      },
      "source": [
        "**Masukan ke dalam data frame**"
      ]
    },
    {
      "cell_type": "code",
      "metadata": {
        "id": "X3ev3zvcvy13",
        "colab_type": "code",
        "outputId": "c75901b6-62a7-4b55-bdff-a8afb612a3af",
        "colab": {
          "base_uri": "https://localhost:8080/",
          "height": 204
        }
      },
      "source": [
        "#masukan dalam data frame\n",
        "\n",
        "#jika belum ada library pandas install terlebih dahulu dengan kode dibawah ini\n",
        "#!pip install pandas\n",
        "\n",
        "#import pandas\n",
        "import pandas as pd\n",
        "\n",
        "#Masukan dataset dalam pandas data frame\n",
        "boston = pd.DataFrame(boston_dataset.data, columns=boston_dataset.feature_names)\n",
        "#buat kolom baru pada data frame dan masukan nilai target\n",
        "boston['MEDV']=boston_dataset.target\n",
        "\n",
        "#tampilkan 5 data teratas\n",
        "boston.head()"
      ],
      "execution_count": 2,
      "outputs": [
        {
          "output_type": "execute_result",
          "data": {
            "text/html": [
              "<div>\n",
              "<style scoped>\n",
              "    .dataframe tbody tr th:only-of-type {\n",
              "        vertical-align: middle;\n",
              "    }\n",
              "\n",
              "    .dataframe tbody tr th {\n",
              "        vertical-align: top;\n",
              "    }\n",
              "\n",
              "    .dataframe thead th {\n",
              "        text-align: right;\n",
              "    }\n",
              "</style>\n",
              "<table border=\"1\" class=\"dataframe\">\n",
              "  <thead>\n",
              "    <tr style=\"text-align: right;\">\n",
              "      <th></th>\n",
              "      <th>CRIM</th>\n",
              "      <th>ZN</th>\n",
              "      <th>INDUS</th>\n",
              "      <th>CHAS</th>\n",
              "      <th>NOX</th>\n",
              "      <th>RM</th>\n",
              "      <th>AGE</th>\n",
              "      <th>DIS</th>\n",
              "      <th>RAD</th>\n",
              "      <th>TAX</th>\n",
              "      <th>PTRATIO</th>\n",
              "      <th>B</th>\n",
              "      <th>LSTAT</th>\n",
              "      <th>MEDV</th>\n",
              "    </tr>\n",
              "  </thead>\n",
              "  <tbody>\n",
              "    <tr>\n",
              "      <th>0</th>\n",
              "      <td>0.00632</td>\n",
              "      <td>18.0</td>\n",
              "      <td>2.31</td>\n",
              "      <td>0.0</td>\n",
              "      <td>0.538</td>\n",
              "      <td>6.575</td>\n",
              "      <td>65.2</td>\n",
              "      <td>4.0900</td>\n",
              "      <td>1.0</td>\n",
              "      <td>296.0</td>\n",
              "      <td>15.3</td>\n",
              "      <td>396.90</td>\n",
              "      <td>4.98</td>\n",
              "      <td>24.0</td>\n",
              "    </tr>\n",
              "    <tr>\n",
              "      <th>1</th>\n",
              "      <td>0.02731</td>\n",
              "      <td>0.0</td>\n",
              "      <td>7.07</td>\n",
              "      <td>0.0</td>\n",
              "      <td>0.469</td>\n",
              "      <td>6.421</td>\n",
              "      <td>78.9</td>\n",
              "      <td>4.9671</td>\n",
              "      <td>2.0</td>\n",
              "      <td>242.0</td>\n",
              "      <td>17.8</td>\n",
              "      <td>396.90</td>\n",
              "      <td>9.14</td>\n",
              "      <td>21.6</td>\n",
              "    </tr>\n",
              "    <tr>\n",
              "      <th>2</th>\n",
              "      <td>0.02729</td>\n",
              "      <td>0.0</td>\n",
              "      <td>7.07</td>\n",
              "      <td>0.0</td>\n",
              "      <td>0.469</td>\n",
              "      <td>7.185</td>\n",
              "      <td>61.1</td>\n",
              "      <td>4.9671</td>\n",
              "      <td>2.0</td>\n",
              "      <td>242.0</td>\n",
              "      <td>17.8</td>\n",
              "      <td>392.83</td>\n",
              "      <td>4.03</td>\n",
              "      <td>34.7</td>\n",
              "    </tr>\n",
              "    <tr>\n",
              "      <th>3</th>\n",
              "      <td>0.03237</td>\n",
              "      <td>0.0</td>\n",
              "      <td>2.18</td>\n",
              "      <td>0.0</td>\n",
              "      <td>0.458</td>\n",
              "      <td>6.998</td>\n",
              "      <td>45.8</td>\n",
              "      <td>6.0622</td>\n",
              "      <td>3.0</td>\n",
              "      <td>222.0</td>\n",
              "      <td>18.7</td>\n",
              "      <td>394.63</td>\n",
              "      <td>2.94</td>\n",
              "      <td>33.4</td>\n",
              "    </tr>\n",
              "    <tr>\n",
              "      <th>4</th>\n",
              "      <td>0.06905</td>\n",
              "      <td>0.0</td>\n",
              "      <td>2.18</td>\n",
              "      <td>0.0</td>\n",
              "      <td>0.458</td>\n",
              "      <td>7.147</td>\n",
              "      <td>54.2</td>\n",
              "      <td>6.0622</td>\n",
              "      <td>3.0</td>\n",
              "      <td>222.0</td>\n",
              "      <td>18.7</td>\n",
              "      <td>396.90</td>\n",
              "      <td>5.33</td>\n",
              "      <td>36.2</td>\n",
              "    </tr>\n",
              "  </tbody>\n",
              "</table>\n",
              "</div>"
            ],
            "text/plain": [
              "      CRIM    ZN  INDUS  CHAS    NOX  ...    TAX  PTRATIO       B  LSTAT  MEDV\n",
              "0  0.00632  18.0   2.31   0.0  0.538  ...  296.0     15.3  396.90   4.98  24.0\n",
              "1  0.02731   0.0   7.07   0.0  0.469  ...  242.0     17.8  396.90   9.14  21.6\n",
              "2  0.02729   0.0   7.07   0.0  0.469  ...  242.0     17.8  392.83   4.03  34.7\n",
              "3  0.03237   0.0   2.18   0.0  0.458  ...  222.0     18.7  394.63   2.94  33.4\n",
              "4  0.06905   0.0   2.18   0.0  0.458  ...  222.0     18.7  396.90   5.33  36.2\n",
              "\n",
              "[5 rows x 14 columns]"
            ]
          },
          "metadata": {
            "tags": []
          },
          "execution_count": 2
        }
      ]
    },
    {
      "cell_type": "markdown",
      "metadata": {
        "id": "4Ul40xGB11cw",
        "colab_type": "text"
      },
      "source": [
        "**Tentukan variable dependent dan independent**\n"
      ]
    },
    {
      "cell_type": "code",
      "metadata": {
        "id": "WlpcjHff0fi2",
        "colab_type": "code",
        "outputId": "417baab0-d132-4e96-8c55-832d8aea1b85",
        "colab": {
          "base_uri": "https://localhost:8080/",
          "height": 459
        }
      },
      "source": [
        "#tentukan variabel dipendent dan independent (X & Y)\n",
        "#import numpy\n",
        "import numpy as np\n",
        "\n",
        "#ambil variable RM sebagai X\n",
        "X = pd.DataFrame(np.c_[boston['RM']], columns = ['RM'])\n",
        "\n",
        "#ambil variabel MEDV sebagai Y\n",
        "Y = boston['MEDV']\n",
        "\n",
        "# tampilkan variable X & Y\n",
        "print(X)\n",
        "print(Y)"
      ],
      "execution_count": 3,
      "outputs": [
        {
          "output_type": "stream",
          "text": [
            "        RM\n",
            "0    6.575\n",
            "1    6.421\n",
            "2    7.185\n",
            "3    6.998\n",
            "4    7.147\n",
            "..     ...\n",
            "501  6.593\n",
            "502  6.120\n",
            "503  6.976\n",
            "504  6.794\n",
            "505  6.030\n",
            "\n",
            "[506 rows x 1 columns]\n",
            "0      24.0\n",
            "1      21.6\n",
            "2      34.7\n",
            "3      33.4\n",
            "4      36.2\n",
            "       ... \n",
            "501    22.4\n",
            "502    20.6\n",
            "503    23.9\n",
            "504    22.0\n",
            "505    11.9\n",
            "Name: MEDV, Length: 506, dtype: float64\n"
          ],
          "name": "stdout"
        }
      ]
    },
    {
      "cell_type": "markdown",
      "metadata": {
        "id": "Z_tHF_jv3Es3",
        "colab_type": "text"
      },
      "source": [
        "## **Pembuatan Model**"
      ]
    },
    {
      "cell_type": "markdown",
      "metadata": {
        "id": "POfk8ax03ZwH",
        "colab_type": "text"
      },
      "source": [
        "**Pembagian data train dan test**"
      ]
    },
    {
      "cell_type": "code",
      "metadata": {
        "id": "pJeup83I2s2P",
        "colab_type": "code",
        "outputId": "de9e7de8-bfbf-430f-b152-ea03b4c41455",
        "colab": {
          "base_uri": "https://localhost:8080/",
          "height": 85
        }
      },
      "source": [
        "from sklearn.model_selection import train_test_split\n",
        "\n",
        "X_train, X_test, Y_train, Y_test = train_test_split(X, Y, test_size = 0.2, random_state=5)\n",
        "\n",
        "# Print ukuran data train dan tes\n",
        "print(X_train.shape)\n",
        "print(X_test.shape)\n",
        "print(Y_train.shape)\n",
        "print(Y_test.shape)"
      ],
      "execution_count": 4,
      "outputs": [
        {
          "output_type": "stream",
          "text": [
            "(404, 1)\n",
            "(102, 1)\n",
            "(404,)\n",
            "(102,)\n"
          ],
          "name": "stdout"
        }
      ]
    },
    {
      "cell_type": "markdown",
      "metadata": {
        "id": "K5Zvdto23qGl",
        "colab_type": "text"
      },
      "source": [
        "**Buat model linier**"
      ]
    },
    {
      "cell_type": "code",
      "metadata": {
        "id": "y-0Dfyv05LXH",
        "colab_type": "code",
        "colab": {}
      },
      "source": [
        "#import library LinearRegression()\n",
        "from sklearn.linear_model import LinearRegression\n",
        "\n",
        "#buat model\n",
        "#masukan data training\n",
        "model = LinearRegression().fit(X_train,Y_train)"
      ],
      "execution_count": 0,
      "outputs": []
    },
    {
      "cell_type": "markdown",
      "metadata": {
        "id": "f8-gt7az5pom",
        "colab_type": "text"
      },
      "source": [
        "## **Hasil dan Evaluasi Model**"
      ]
    },
    {
      "cell_type": "markdown",
      "metadata": {
        "id": "vEgnxXb858fu",
        "colab_type": "text"
      },
      "source": [
        "**Hasil model**"
      ]
    },
    {
      "cell_type": "code",
      "metadata": {
        "id": "j18A-9um7B3P",
        "colab_type": "code",
        "outputId": "ef73ff97-585f-42b0-ec20-b28f5081210a",
        "colab": {
          "base_uri": "https://localhost:8080/",
          "height": 51
        }
      },
      "source": [
        "#intercept model\n",
        "intercept_model = model.intercept_\n",
        "print(intercept_model)\n",
        "\n",
        "#coeffecient model\n",
        "coefficient_model = model.coef_\n",
        "print(coefficient_model)\n",
        "\n",
        "#didapatkan model\n",
        "# a+bx = -32.839 + 8.823X"
      ],
      "execution_count": 6,
      "outputs": [
        {
          "output_type": "stream",
          "text": [
            "-32.839129906011266\n",
            "[8.82345634]\n"
          ],
          "name": "stdout"
        }
      ]
    },
    {
      "cell_type": "markdown",
      "metadata": {
        "id": "g-jafMM18rAw",
        "colab_type": "text"
      },
      "source": [
        "**Uji model**"
      ]
    },
    {
      "cell_type": "code",
      "metadata": {
        "id": "XLOx3HNL5o62",
        "colab_type": "code",
        "outputId": "cd076cad-5b31-4ca1-fc68-4b1067207ce2",
        "colab": {
          "base_uri": "https://localhost:8080/",
          "height": 544
        }
      },
      "source": [
        "#masukan data test dan dapatkan y prediksi\n",
        "y_pred = model.predict(X_test)\n",
        "print(y_pred)\n",
        "\n",
        "#buktikan dengan intercept dan coeffecient\n",
        "y_pred2 = intercept_model + coefficient_model*X_test\n",
        "print(y_pred2)"
      ],
      "execution_count": 7,
      "outputs": [
        {
          "output_type": "stream",
          "text": [
            "[38.10145909 25.66038564 23.78098944 10.44874691 35.02207282 13.96048253\n",
            " 28.71330154 26.50743745 26.41037943 23.95745857 32.59562233 19.9692563\n",
            " 19.85455137 31.00740019 24.84862766 19.2016156   7.99582605 14.84282817\n",
            " 14.71929978 17.95750826 12.09873325 23.38393391 40.09556022 23.47216847\n",
            " 29.70152865 18.81338352 23.41922773 21.65453646 22.88982035 25.21038937\n",
            " 18.83103043 14.93106273 19.10455758 32.39268283 24.46921904 22.97805492\n",
            " 25.6692091  19.18396869 41.26025646 29.13682744 21.80453522 11.44579748\n",
            " 25.55450417 19.8898452  24.94568568 27.78683862  7.0340693  19.75749335\n",
            " 21.17806982 21.63688955 21.2221871  20.83395502 22.62511666 20.94865996\n",
            " 17.53398235 23.48099193 36.16029869 24.73392273 26.08391155 19.77514026\n",
            " 20.33984147 20.27807727 17.39280705 28.42212748 21.2221871  14.35753807\n",
            " 24.46921904 21.96335744 19.75749335 19.2633798  24.37216102 21.17806982\n",
            " 16.58987252 27.61919295 16.64281326 26.52508436 18.9986761  16.54575524\n",
            " 31.81033471 20.15454889 22.12217965 41.05731696 21.54865499 21.93688707\n",
            " 18.22221195 23.78098944 16.29869846 11.59579623 18.24868232 19.07808721\n",
            " 36.25735671 19.79278718 22.12217965 22.03394509 23.03981911 24.61039434\n",
            " 17.95750826 28.38683365 18.39868107 13.67813193 22.23688458 23.92216474]\n",
            "            RM\n",
            "226  38.101459\n",
            "292  25.660386\n",
            "90   23.780989\n",
            "373  10.448747\n",
            "273  35.022073\n",
            "..         ...\n",
            "349  28.386834\n",
            "212  18.398681\n",
            "156  13.678132\n",
            "480  22.236885\n",
            "248  23.922165\n",
            "\n",
            "[102 rows x 1 columns]\n"
          ],
          "name": "stdout"
        }
      ]
    },
    {
      "cell_type": "markdown",
      "metadata": {
        "id": "ESHttxgv8x_-",
        "colab_type": "text"
      },
      "source": [
        "**Evaluasi model**\n",
        "\n",
        "**RMSE** (Root Mean Square Error)\n",
        "\n",
        "Nlai error model \n",
        "\n",
        "Semakin kecil atau mendekati nilai 0 RMSE maka model memiliki eror yang semakin sedikit\n",
        "\n",
        "**R2** (Root Square)\n",
        "\n",
        "Nilai keakuratan model\n",
        "\n",
        "Semakin mendekati 1 semakin bagus model tersebut, menghitung seberapa besar variabel dependent bisa dijelaskan oleh variabel independent\n",
        "\n",
        "contoh R2 = 0,65\n",
        "\n",
        "maka variabel independent bisa menjelaskan 0,65/65% dari variabel dependent, dan sisanya 0,35/35% dijelaskan oleh variabel lain\n",
        "\n"
      ]
    },
    {
      "cell_type": "code",
      "metadata": {
        "id": "VoMTVSNURHji",
        "colab_type": "code",
        "outputId": "f74d432d-71f4-428e-94fd-d574dba99eaf",
        "colab": {
          "base_uri": "https://localhost:8080/",
          "height": 153
        }
      },
      "source": [
        "#import MSE (Mean Squared Error)\n",
        "from sklearn.metrics import mean_squared_error\n",
        "#import r2_score\n",
        "from sklearn.metrics import r2_score\n",
        "\n",
        "#Evaluasi model dengan data training\n",
        "print(\"Performa model dengan data training\")\n",
        "#Evalusai dengam RMSE (Root Mean square Error)\n",
        "Y_train_pred = model.predict(X_train)\n",
        "rmse_train = (np.sqrt(mean_squared_error(Y_train,Y_train_pred)))\n",
        "print(\"RMSE : \", rmse_train)\n",
        "\n",
        "#evalusai dengan R2 (R Square)\n",
        "# cara 1\n",
        "r2_train = model.score(X_train,Y_train)\n",
        "# cara 2\n",
        "# r2 = r2_score(Y_train, Y_train_pred)\n",
        "print(\"R2 : \", r2_train)\n",
        "print(\"\\n\")\n",
        "\n",
        "#Evaluasi model dengan data training\n",
        "print(\"Performa model dengan data test\")\n",
        "#Evalusai dengam RMSE (Root Mean square Error)\n",
        "Y_test_pred = model.predict(X_test)\n",
        "rmse_test = (np.sqrt(mean_squared_error(Y_test,Y_test_pred)))\n",
        "print(\"RMSE : \", rmse_test)\n",
        "\n",
        "#evalusai dengan R2 (R Square)\n",
        "# cara 1\n",
        "r2_test = model.score(X_test,Y_test)\n",
        "# cara 2\n",
        "# r2 = r2_score(Y_train, Y_test_pred)\n",
        "print(\"R2 : \", r2_test)\n"
      ],
      "execution_count": 8,
      "outputs": [
        {
          "output_type": "stream",
          "text": [
            "Performa model dengan data training\n",
            "RMSE :  6.972277149440585\n",
            "R2 :  0.4340897790637215\n",
            "\n",
            "\n",
            "Performa model dengan data test\n",
            "RMSE :  4.895963186952216\n",
            "R2 :  0.6938399401553497\n"
          ],
          "name": "stdout"
        }
      ]
    },
    {
      "cell_type": "markdown",
      "metadata": {
        "id": "blaCGay7ol13",
        "colab_type": "text"
      },
      "source": [
        "---\n",
        "\n",
        "## **Regresi Linier**\n",
        "\n",
        "**Satya A.H.B**"
      ]
    }
  ]
}